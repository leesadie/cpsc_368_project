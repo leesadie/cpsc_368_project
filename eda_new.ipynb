{
 "cells": [
  {
   "cell_type": "code",
   "execution_count": 1,
   "metadata": {},
   "outputs": [],
   "source": [
    "import pandas as pd \n",
    "import openpyxl\n",
    "import numpy\n",
    "from func import transform_df \n",
    "import seaborn as sns\n",
    "import numpy as np\n",
    "import matplotlib.pyplot as plt\n",
    "import matplotlib.pyplot as plt\n",
    "import seaborn as sns\n",
    "import matplotlib.ticker as ticker\n",
    "import numpy as np\n",
    "from statsmodels.graphics.tsaplots import plot_acf, plot_pacf"
   ]
  },
  {
   "cell_type": "code",
   "execution_count": 2,
   "metadata": {},
   "outputs": [
    {
     "name": "stderr",
     "output_type": "stream",
     "text": [
      "/var/folders/nd/1p3rzcrj77xgxtcymgf3pkzw0000gn/T/ipykernel_634/87972528.py:42: SettingWithCopyWarning: \n",
      "A value is trying to be set on a copy of a slice from a DataFrame.\n",
      "Try using .loc[row_indexer,col_indexer] = value instead\n",
      "\n",
      "See the caveats in the documentation: https://pandas.pydata.org/pandas-docs/stable/user_guide/indexing.html#returning-a-view-versus-a-copy\n",
      "  df_pet.Date = df_pet.Date.dt.to_timestamp()\n",
      "/var/folders/nd/1p3rzcrj77xgxtcymgf3pkzw0000gn/T/ipykernel_634/87972528.py:44: SettingWithCopyWarning: \n",
      "A value is trying to be set on a copy of a slice from a DataFrame.\n",
      "Try using .loc[row_indexer,col_indexer] = value instead\n",
      "\n",
      "See the caveats in the documentation: https://pandas.pydata.org/pandas-docs/stable/user_guide/indexing.html#returning-a-view-versus-a-copy\n",
      "  df_mri.Date = df_mri.Date.dt.to_timestamp()\n",
      "/var/folders/nd/1p3rzcrj77xgxtcymgf3pkzw0000gn/T/ipykernel_634/87972528.py:45: SettingWithCopyWarning: \n",
      "A value is trying to be set on a copy of a slice from a DataFrame.\n",
      "Try using .loc[row_indexer,col_indexer] = value instead\n",
      "\n",
      "See the caveats in the documentation: https://pandas.pydata.org/pandas-docs/stable/user_guide/indexing.html#returning-a-view-versus-a-copy\n",
      "  df_ct.Date = df_ct.Date.dt.to_timestamp()\n"
     ]
    }
   ],
   "source": [
    "df = pd.read_excel('data/table2-20-21.xlsx', skiprows=13, sheet_name='Provider')\n",
    "df = df.iloc[10:1290]\n",
    "df_20_21 = transform_df(df, 2020, 2021)\n",
    "\n",
    "# table 2 2021 - 2022\n",
    "\n",
    "df = pd.read_excel('data/table2-21-22.xlsx', skiprows=13, sheet_name='Provider')\n",
    "df = df.iloc[10:1278]\n",
    "df_21_22 = transform_df(df, 2021, 2022)\n",
    "\n",
    "# table 2 2022 - 2023\n",
    "df = pd.read_excel('data/table2-22-23.xlsx', skiprows=13, sheet_name='Provider')\n",
    "df = df.iloc[10:1270]\n",
    "df_22_23 = transform_df(df, 2022, 2023)\n",
    "\n",
    "# table 2 2023-2024\n",
    "\n",
    "df = pd.read_excel('data/table2-23-24.xlsx', skiprows=13, sheet_name='Provider')\n",
    "df = df.iloc[10:1240]\n",
    "df_23_24 = transform_df(df, 2023, 2024)\n",
    "\n",
    "\n",
    "# combine each year into one df \n",
    "df = pd.concat([df_20_21, df_21_22, df_22_23, df_23_24])\n",
    "df = df.dropna()\n",
    "df = df[df.MedianWaitDays != '.']\n",
    "df = df[df.MedianWaitDays != '*']\n",
    "\n",
    "# I think its easier to just focus on 3 modalities, but i'm also okay to do all of them if that's either of your preference. \n",
    "# Choosing PET, MRI & CT because those were mentioned in proposal\n",
    "\n",
    "modalities = ['Magnetic Resonance Imaging', 'Positron Emission Tomography', 'Computerized Axial Tomography']\n",
    "years = [2019, 2020, 2021]\n",
    "df = df[df['Modality'].apply(lambda x: any(m in x for m in modalities))]\n",
    "df = df[df['Year'].apply(lambda x: x>=2020)]\n",
    "df = df[df['Year'].apply(lambda x: x<2023)]\n",
    "\n",
    "\n",
    "\n",
    "df_pet = df[df.Modality == 'Positron Emission Tomography']\n",
    "df_mri =  df[df.Modality == 'Magnetic Resonance Imaging']\n",
    "df_pet.Date = df_pet.Date.dt.to_timestamp()\n",
    "df_ct = df[df.Modality == 'Computerized Axial Tomography']\n",
    "df_mri.Date = df_mri.Date.dt.to_timestamp()\n",
    "df_ct.Date = df_ct.Date.dt.to_timestamp()\n"
   ]
  },
  {
   "cell_type": "code",
   "execution_count": 3,
   "metadata": {},
   "outputs": [],
   "source": [
    "from statsmodels.tsa.stattools import adfuller"
   ]
  },
  {
   "cell_type": "code",
   "execution_count": 5,
   "metadata": {},
   "outputs": [
    {
     "data": {
      "application/vnd.microsoft.datawrangler.viewer.v0+json": {
       "columns": [
        {
         "name": "index",
         "rawType": "int64",
         "type": "integer"
        },
        {
         "name": "p_val",
         "rawType": "float64",
         "type": "float"
        },
        {
         "name": "org_code",
         "rawType": "object",
         "type": "string"
        },
        {
         "name": "stationary",
         "rawType": "bool",
         "type": "boolean"
        }
       ],
       "conversionMethod": "pd.DataFrame",
       "ref": "307f2a8d-68a3-431c-b9aa-5ee456178041",
       "rows": [
        [
         "0",
         "0.1881333676974996",
         "NT9",
         "False"
        ],
        [
         "1",
         "0.10631976529202408",
         "RF4",
         "False"
        ],
        [
         "2",
         "0.35091315183685723",
         "R1H",
         "False"
        ],
        [
         "3",
         "0.019847277186145106",
         "NT4",
         "True"
        ],
        [
         "4",
         "0.027700982096704244",
         "RQM",
         "True"
        ],
        [
         "5",
         "0.00784631381261103",
         "RVR",
         "True"
        ],
        [
         "6",
         "2.7375486633712864e-05",
         "RP4",
         "True"
        ],
        [
         "7",
         "0.8994428800090075",
         "RJ1",
         "False"
        ],
        [
         "8",
         "0.3685473256400955",
         "RQX",
         "False"
        ],
        [
         "9",
         "0.028566872772742027",
         "RYJ",
         "True"
        ],
        [
         "10",
         "0.2998437913476035",
         "NV1",
         "False"
        ],
        [
         "11",
         "0.07077255062840083",
         "RJZ",
         "False"
        ],
        [
         "12",
         "0.03501210122899043",
         "RAX",
         "True"
        ],
        [
         "13",
         "0.7318159064267864",
         "RJ2",
         "False"
        ],
        [
         "14",
         "0.026801306370183513",
         "R1K",
         "True"
        ],
        [
         "15",
         "0.0009426191507767976",
         "RP6",
         "True"
        ],
        [
         "16",
         "0.0396451778525665",
         "RAP",
         "True"
        ],
        [
         "17",
         "0.7953611877859073",
         "NVC",
         "False"
        ],
        [
         "18",
         "0.9063583980546708",
         "RT3",
         "False"
        ],
        [
         "19",
         "0.5448705398358907",
         "RAL",
         "False"
        ],
        [
         "20",
         "0.019177131946941685",
         "RAN",
         "True"
        ],
        [
         "21",
         "0.8024160764160946",
         "RV5",
         "False"
        ],
        [
         "22",
         "0.0313676056229176",
         "NT3",
         "True"
        ],
        [
         "23",
         "3.224349284929641e-07",
         "RJ7",
         "True"
        ],
        [
         "24",
         "0.004261075096289083",
         "RAS",
         "True"
        ],
        [
         "25",
         "3.305440607335394e-07",
         "RPY",
         "True"
        ],
        [
         "26",
         "0.1730721509361431",
         "AC7",
         "False"
        ],
        [
         "27",
         "0.05303733951719552",
         "RBD",
         "False"
        ],
        [
         "28",
         "0.1261896360138951",
         "RTE",
         "False"
        ],
        [
         "29",
         "0.06496549061632129",
         "RN3",
         "False"
        ],
        [
         "30",
         "0.008678697014996024",
         "RVJ",
         "True"
        ],
        [
         "31",
         "0.19762653897901683",
         "RBZ",
         "False"
        ],
        [
         "32",
         "0.3110311338464042",
         "RD3",
         "False"
        ],
        [
         "33",
         "0.947974068960909",
         "NTP",
         "False"
        ],
        [
         "34",
         "2.0235754735790973e-05",
         "REF",
         "True"
        ],
        [
         "35",
         "0.029785515017725982",
         "RH8",
         "True"
        ],
        [
         "36",
         "0.036401124679561345",
         "RD1",
         "True"
        ],
        [
         "37",
         "0.3609318818031362",
         "RNZ",
         "False"
        ],
        [
         "38",
         "0.868475835504219",
         "RH5",
         "False"
        ],
        [
         "39",
         "0.7728280474342549",
         "RDZ",
         "False"
        ],
        [
         "40",
         "0.0410747205279512",
         "RA9",
         "True"
        ],
        [
         "41",
         "0.499138913902841",
         "RA7",
         "False"
        ],
        [
         "42",
         "0.1299135613363483",
         "RK9",
         "False"
        ],
        [
         "43",
         "0.008830341419587367",
         "RA4",
         "True"
        ],
        [
         "44",
         "0.5276089397435686",
         "RTK",
         "False"
        ],
        [
         "45",
         "0.10147170452059356",
         "RXH",
         "False"
        ],
        [
         "46",
         "0.3124800493747606",
         "RXQ",
         "False"
        ],
        [
         "47",
         "0.006667408697223188",
         "NV3",
         "True"
        ],
        [
         "48",
         "0.0509248378337487",
         "RN7",
         "False"
        ],
        [
         "49",
         "0.1705459492875212",
         "RVV",
         "False"
        ]
       ],
       "shape": {
        "columns": 3,
        "rows": 156
       }
      },
      "text/html": [
       "<div>\n",
       "<style scoped>\n",
       "    .dataframe tbody tr th:only-of-type {\n",
       "        vertical-align: middle;\n",
       "    }\n",
       "\n",
       "    .dataframe tbody tr th {\n",
       "        vertical-align: top;\n",
       "    }\n",
       "\n",
       "    .dataframe thead th {\n",
       "        text-align: right;\n",
       "    }\n",
       "</style>\n",
       "<table border=\"1\" class=\"dataframe\">\n",
       "  <thead>\n",
       "    <tr style=\"text-align: right;\">\n",
       "      <th></th>\n",
       "      <th>p_val</th>\n",
       "      <th>org_code</th>\n",
       "      <th>stationary</th>\n",
       "    </tr>\n",
       "  </thead>\n",
       "  <tbody>\n",
       "    <tr>\n",
       "      <th>0</th>\n",
       "      <td>1.881334e-01</td>\n",
       "      <td>NT9</td>\n",
       "      <td>False</td>\n",
       "    </tr>\n",
       "    <tr>\n",
       "      <th>1</th>\n",
       "      <td>1.063198e-01</td>\n",
       "      <td>RF4</td>\n",
       "      <td>False</td>\n",
       "    </tr>\n",
       "    <tr>\n",
       "      <th>2</th>\n",
       "      <td>3.509132e-01</td>\n",
       "      <td>R1H</td>\n",
       "      <td>False</td>\n",
       "    </tr>\n",
       "    <tr>\n",
       "      <th>3</th>\n",
       "      <td>1.984728e-02</td>\n",
       "      <td>NT4</td>\n",
       "      <td>True</td>\n",
       "    </tr>\n",
       "    <tr>\n",
       "      <th>4</th>\n",
       "      <td>2.770098e-02</td>\n",
       "      <td>RQM</td>\n",
       "      <td>True</td>\n",
       "    </tr>\n",
       "    <tr>\n",
       "      <th>...</th>\n",
       "      <td>...</td>\n",
       "      <td>...</td>\n",
       "      <td>...</td>\n",
       "    </tr>\n",
       "    <tr>\n",
       "      <th>151</th>\n",
       "      <td>1.512424e-03</td>\n",
       "      <td>NN4</td>\n",
       "      <td>True</td>\n",
       "    </tr>\n",
       "    <tr>\n",
       "      <th>152</th>\n",
       "      <td>4.398993e-02</td>\n",
       "      <td>R0D</td>\n",
       "      <td>True</td>\n",
       "    </tr>\n",
       "    <tr>\n",
       "      <th>153</th>\n",
       "      <td>1.836099e-01</td>\n",
       "      <td>NYR</td>\n",
       "      <td>False</td>\n",
       "    </tr>\n",
       "    <tr>\n",
       "      <th>154</th>\n",
       "      <td>3.294846e-02</td>\n",
       "      <td>DCM</td>\n",
       "      <td>True</td>\n",
       "    </tr>\n",
       "    <tr>\n",
       "      <th>155</th>\n",
       "      <td>1.275160e-07</td>\n",
       "      <td>RFR</td>\n",
       "      <td>True</td>\n",
       "    </tr>\n",
       "  </tbody>\n",
       "</table>\n",
       "<p>156 rows × 3 columns</p>\n",
       "</div>"
      ],
      "text/plain": [
       "            p_val org_code  stationary\n",
       "0    1.881334e-01      NT9       False\n",
       "1    1.063198e-01      RF4       False\n",
       "2    3.509132e-01      R1H       False\n",
       "3    1.984728e-02      NT4        True\n",
       "4    2.770098e-02      RQM        True\n",
       "..            ...      ...         ...\n",
       "151  1.512424e-03      NN4        True\n",
       "152  4.398993e-02      R0D        True\n",
       "153  1.836099e-01      NYR       False\n",
       "154  3.294846e-02      DCM        True\n",
       "155  1.275160e-07      RFR        True\n",
       "\n",
       "[156 rows x 3 columns]"
      ]
     },
     "execution_count": 5,
     "metadata": {},
     "output_type": "execute_result"
    }
   ],
   "source": [
    "orgs= df_mri['Org Code'].unique()\n",
    "\n",
    "results = {\"p_val\":[], \n",
    "          'org_code':[], \n",
    "          'stationary':[]}\n",
    "\n",
    "for org in orgs:\n",
    "    \n",
    "\n",
    "    data = df_mri[df_mri['Org Code']==org]\n",
    "    data = data['MedianWaitDays']\n",
    "    if data.nunique() >1 and len(data)>3:\n",
    "        \n",
    "        result = adfuller(data, autolag='AIC')\n",
    "        results['p_val'].append(result[1])\n",
    "        results['org_code'].append(org)\n",
    "        if result[1]<0.05:\n",
    "            results['stationary'].append(True)\n",
    "        else:\n",
    "            results['stationary'].append(False)\n",
    "\n",
    "res_mri = pd.DataFrame(results)\n",
    "res_mri"
   ]
  },
  {
   "cell_type": "code",
   "execution_count": 6,
   "metadata": {},
   "outputs": [
    {
     "data": {
      "image/png": "[encoded data removed]",
      "text/plain": [
       "<Figure size 1200x400 with 2 Axes>"
      ]
     },
     "metadata": {},
     "output_type": "display_data"
    },
    {
     "data": {
      "image/png": "[encoded data removed]",
      "text/plain": [
       "<Figure size 1200x400 with 2 Axes>"
      ]
     },
     "metadata": {},
     "output_type": "display_data"
    }
   ],
   "source": [
    "regions = df_mri['Org Code'].unique()\n",
    "regions =['NT9', 'RQM']\n",
    "\n",
    "plt.rcParams['lines.markersize'] = 1\n",
    "\n",
    "for region in regions:\n",
    "    fig, axs = plt.subplots(1, 2, figsize=(12, 4))\n",
    "\n",
    "    data = df_mri[df_mri['Org Code']==region]\n",
    "    data = data['MedianWaitDays'].to_numpy().flatten()\n",
    "    plt.rcParams['lines.markersize'] = 1\n",
    "    plot_acf(data, lags=len(data)-1, ax=axs[0], vlines_kwargs={'linewidth': 0.8, 'alpha':0.7})\n",
    "    axs[0].set_title(f'{region} MRI Median Wait Times ACF')\n",
    "    plot_pacf(data, lags=(len(data)/2)-1, ax=axs[1], vlines_kwargs={'linewidth': 0.8, 'alpha':0.7})\n",
    "    axs[1].set_title(f'{region} MRI Median Wait Times PACF')\n",
    "   \n",
    "    for ax in axs:\n",
    "        for line in ax.lines:\n",
    "            line.set_markersize(2)\n",
    "\n",
    "    plt.tight_layout()\n",
    "    plt.show()"
   ]
  }
 ],
 "metadata": {
  "kernelspec": {
   "display_name": "venv",
   "language": "python",
   "name": "python3"
  },
  "language_info": {
   "codemirror_mode": {
    "name": "ipython",
    "version": 3
   },
   "file_extension": ".py",
   "mimetype": "text/x-python",
   "name": "python",
   "nbconvert_exporter": "python",
   "pygments_lexer": "ipython3",
   "version": "3.9.6"
  }
 },
 "nbformat": 4,
 "nbformat_minor": 2
}
